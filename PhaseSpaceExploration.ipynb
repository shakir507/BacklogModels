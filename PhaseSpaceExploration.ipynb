{
  "nbformat": 4,
  "nbformat_minor": 0,
  "metadata": {
    "colab": {
      "provenance": [],
      "authorship_tag": "ABX9TyO6/inUUxzg9G1XaFejwAN9",
      "include_colab_link": true
    },
    "kernelspec": {
      "name": "python3",
      "display_name": "Python 3"
    },
    "language_info": {
      "name": "python"
    }
  },
  "cells": [
    {
      "cell_type": "markdown",
      "metadata": {
        "id": "view-in-github",
        "colab_type": "text"
      },
      "source": [
        "<a href=\"https://colab.research.google.com/github/shakir507/BacklogModels/blob/main/PhaseSpaceExploration.ipynb\" target=\"_parent\"><img src=\"https://colab.research.google.com/assets/colab-badge.svg\" alt=\"Open In Colab\"/></a>"
      ]
    },
    {
      "cell_type": "markdown",
      "source": [
        "This code investigates the parameter space of the backlog-resource model for healthcare, exploring work hours and the amplitude of demand surges to determine the resources required. A surge is assumed to occur against the base demand for a time period 'P', after which demand returns to the base level."
      ],
      "metadata": {
        "id": "Wn5CO5PhLCwr"
      }
    },
    {
      "cell_type": "code",
      "source": [],
      "metadata": {
        "id": "UziYCf1oNvwI"
      },
      "execution_count": null,
      "outputs": []
    }
  ]
}