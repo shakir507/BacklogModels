{
  "nbformat": 4,
  "nbformat_minor": 0,
  "metadata": {
    "colab": {
      "provenance": [],
      "authorship_tag": "ABX9TyMo9qwag1XPara+BfmZqcwF",
      "include_colab_link": true
    },
    "kernelspec": {
      "name": "python3",
      "display_name": "Python 3"
    },
    "language_info": {
      "name": "python"
    }
  },
  "cells": [
    {
      "cell_type": "markdown",
      "metadata": {
        "id": "view-in-github",
        "colab_type": "text"
      },
      "source": [
        "<a href=\"https://colab.research.google.com/github/shakir507/BacklogModels/blob/main/PhaseSpaceExploration.ipynb\" target=\"_parent\"><img src=\"https://colab.research.google.com/assets/colab-badge.svg\" alt=\"Open In Colab\"/></a>"
      ]
    },
    {
      "cell_type": "markdown",
      "source": [
        "##Phase Soace Exploration: Number of excess resources during a surge\n",
        "This code investigates the parameter space of the backlog-resource model for healthcare, exploring work hours and the amplitude of demand surges to determine the resources required. A surge is assumed to occur against the base demand for a time period 'P', after which demand returns to the base level."
      ],
      "metadata": {
        "id": "Wn5CO5PhLCwr"
      }
    },
    {
      "cell_type": "code",
      "source": [
        "import numpy as np\n",
        "from scipy.integrate import solve_ivp\n",
        "import matplotlib.pyplot as plt\n"
      ],
      "metadata": {
        "id": "UziYCf1oNvwI"
      },
      "execution_count": 1,
      "outputs": []
    },
    {
      "cell_type": "code",
      "source": [
        "\n",
        "# Parameters for the backlog\n",
        "\n",
        "initial_backlog = 2  # Initial number of patients in the backlog\n",
        "initial_resource = 2  # Initial number of resources\n",
        "T0 = 1  # Initial time\n",
        "Tf = 200  # Final time\n",
        "time_span = (T0, Tf)  # Time range for simulation\n",
        "time_points_backlog = np.linspace(time_span[0], time_span[1], 10000)  # Time points for evaluation\n",
        "demandsurge = 600\n",
        "basedemand = 100\n",
        "period = 90  # Period of the surge\n",
        "t1 = 50  # Start of the surge\n",
        "t2 = t1 + period  # End of the surge\n",
        "# counting number of time points between t1 and t2 based on time_points_backlog\n",
        "timepoints_t1_t2 = time_points_backlog[(time_points_backlog >= t1) & (time_points_backlog <= t2)]\n",
        "print(\"Number of time points between t1 and t2:\", len(timepoints_t1_t2))\n",
        "time_points_SIR = np.linspace(t1, t2, len(timepoints_t1_t2))  # Time points for evaluation\n",
        "\n",
        "# Parameters for the SIR model\n",
        "beta = 0.6  # Infection rate\n",
        "gamma = 0.4  # Recovery rate\n",
        "Ntot = 10000  # Total population\n",
        "# -----------Parameters for resources\n",
        "Wd = 5\n",
        "Wh = 10\n",
        "deliverydelay = 1 / 50\n",
        "productivity = 1\n",
        "R0 = 2\n",
        "RAT = 1  # Resource Allocation Time\n",
        "# -------------------------------------------\n"
      ],
      "metadata": {
        "colab": {
          "base_uri": "https://localhost:8080/"
        },
        "id": "rpi-ATh_A37d",
        "outputId": "d166ab7e-4d8e-4ac4-cad1-7e2acc952069"
      },
      "execution_count": 10,
      "outputs": [
        {
          "output_type": "stream",
          "name": "stdout",
          "text": [
            "Number of time points between t1 and t2: 4522\n"
          ]
        }
      ]
    },
    {
      "cell_type": "code",
      "source": [
        "\n",
        "def resources(t, dCp):\n",
        "    # Using Heaviside for step functions\n",
        "    dNr = dCp / (Wd * Wh)\n",
        "    return dNr\n",
        "\n",
        "def resource_error(t, Cp, C):\n",
        "    return (Cp - C) / (Wh * Wd * productivity)\n",
        "\n",
        "# Define the time-dependent growth rate a(t)\n",
        "def STEP(a0, t, t0):\n",
        "    return a0 * np.heaviside(t - t0, 0)"
      ],
      "metadata": {
        "id": "lZDyzK2CA6lh"
      },
      "execution_count": 3,
      "outputs": []
    },
    {
      "cell_type": "code",
      "source": [
        "\n",
        "def SIR(t, Y, beta, gamma):\n",
        "    S, I, R = Y\n",
        "    dS_dt = -beta * S * I\n",
        "    dI_dt = beta * S * I - gamma * I\n",
        "    dR_dt = gamma * I\n",
        "    return [dS_dt, dI_dt, dR_dt]\n",
        "\n",
        "def solve_SIR_direct(t1, t2):\n",
        "    # Solve the SIR model only between t1 and t2\n",
        "    time_span = (t1, t2)\n",
        "    time_points = np.linspace(t1, t2, 1000)  # Time points for evaluation\n",
        "    S0 = 1 - 1 / Ntot  # Initial susceptible population\n",
        "    I0 = 1 / Ntot  # Initial infected population\n",
        "    R0 = 0.0  # Initial recovered population\n",
        "    Initial_conditions = [S0, I0, R0]\n",
        "    solution = solve_ivp(\n",
        "        SIR,\n",
        "        time_span,\n",
        "        Initial_conditions,\n",
        "        t_eval=time_points,\n",
        "        args=(beta, gamma),\n",
        "        rtol=1e-6,\n",
        "        atol=1e-6\n",
        "    )\n",
        "    solution.y[1] *= Ntot  # Scale infected population to actual size\n",
        "    return time_points, solution.y[1]  # Return time points and infected population\n"
      ],
      "metadata": {
        "id": "9CTPH3z4A9ht"
      },
      "execution_count": 4,
      "outputs": []
    },
    {
      "cell_type": "code",
      "source": [
        "\n",
        "def demandsurge_function(demandsurge,fn=1):\n",
        "    if fn == 1 or fn == 2:\n",
        "        return demandsurge\n",
        "    if fn == 3:\n",
        "        t_sir, I_sir = solve_SIR_direct(t1, t2)  # Get time points and infected population\n",
        "        return t_sir, I_sir\n",
        "\n",
        "def demand(t, delta, fn=1):\n",
        "    if fn == 1:\n",
        "        return basedemand + STEP(delta, t, t1) - STEP(delta, t, t1 + period)  # Square wave\n",
        "    if fn == 2:\n",
        "        return basedemand + (1 + delta * np.sin(2 * np.pi * (t - t1) / (2 * period))) * STEP(1, t, t1) - STEP(1, t, t1 + period) * (1 + delta * np.sin(2 * np.pi * (t - t1) / (2 * period)))  # Sinusoidal\n",
        "    elif fn == 3:  # SIR-based demand\n",
        "        t_sir, I_sir = delta  # Unpack time points and infected population\n",
        "        if t < t1:  # Constant demand before t1\n",
        "            return basedemand\n",
        "        elif t > t2:  # Constant demand after t2\n",
        "            return basedemand\n",
        "        else:  # Use SIR dynamics between t1 and t2\n",
        "            idx = np.searchsorted(t_sir, t)  # Find the closest SIR time point\n",
        "            return basedemand + I_sir[idx]\n",
        "\n",
        "# Define the ODE for customer growth\n",
        "def backloghospital(t, Y, demandsurge, fn=1):\n",
        "    B, R = Y\n",
        "    a = demand(t, demandsurge_function(demandsurge,fn), fn)  # Get the time-dependent growth rate\n",
        "    MaximumDemandFullfilled = B / deliverydelay\n",
        "    C0 = R * Wd * Wh\n",
        "    C = C0\n",
        "    Cp = MaximumDemandFullfilled  # Target capacity required to meet backlog demand\n",
        "    d = min(MaximumDemandFullfilled, C)  # Demand met\n",
        "    dB_dt = a - d  # Change in backlog based on demand met and demand and demand surge\n",
        "    dR_dt = (resource_error(t, Cp, C)) / RAT  # Change in resources based on shortage or surplus of resources to meet demand\n",
        "    return [dB_dt, dR_dt]\n"
      ],
      "metadata": {
        "id": "m6AiLebHA_Yd"
      },
      "execution_count": 5,
      "outputs": []
    },
    {
      "cell_type": "code",
      "source": [
        "\n",
        "# select a surge functional form fn=1 for square wave, fn=2 for sinusoidal or fn=3 to be simulated from a SIR model. The use can select the period of the surge\n",
        "print(\"Select a surge functional form fn=1 for square wave, fn=2 for sinusoidal or fn=3 to be simulated from a SIR model. The use can select the period of the surge\")\n",
        "fn = int(input(\"Enter the surge functional form:\"))\n",
        "#Run a loop over the surge amplitude and store the maximum resources required during the surge as a function of the surge amplitude.\n",
        "max_resources = []\n",
        "surge_amplitude = np.linspace(20, 600, 62)\n",
        "for demandsurge in surge_amplitude:\n",
        "    # Solve the ODE\n",
        "    solution = solve_ivp(\n",
        "        backloghospital,          # ODE function\n",
        "        time_span,                # Time span\n",
        "        [initial_backlog, initial_resource],     # Initial condition\n",
        "        t_eval=time_points_backlog,       # Time points to evaluate the solution\n",
        "        args=(demandsurge, fn,),  # Additional arguments for the ODE function\n",
        "        rtol=1e-6,  # Reduce relative tolerance\n",
        "        atol=1e-6   # Reduce absolute tolerance\n",
        "    )\n",
        "\n",
        "    # Extract results\n",
        "    time = solution.t\n",
        "    backlog = solution.y[0]\n",
        "    resources_val = solution.y[1]\n",
        "    #Compute maximum resources required during the surge from the solution and store\n",
        "    max_resources.append(max(resources_val)-initial_resource)\n",
        "\n"
      ],
      "metadata": {
        "colab": {
          "base_uri": "https://localhost:8080/"
        },
        "id": "RZ_TBpUCBUJ3",
        "outputId": "933dc220-9451-49fe-8433-dcd63002f8ba"
      },
      "execution_count": 11,
      "outputs": [
        {
          "name": "stdout",
          "output_type": "stream",
          "text": [
            "Select a surge functional form fn=1 for square wave, fn=2 for sinusoidal or fn=3 to be simulated from a SIR model. The use can select the period of the surge\n",
            "Enter the surge functional form:1\n"
          ]
        }
      ]
    },
    {
      "cell_type": "code",
      "source": [
        "# Plot maximum resources required during the surge as a function of the surge amplitude\n",
        "plt.plot(surge_amplitude, max_resources, label=\"Maximum resources required during the surge\", color=\"blue\", linewidth=2)\n",
        "plt.xlabel(\"Surge amplitude\", fontsize=14)\n",
        "plt.ylabel(\"Excess resources required\", fontsize=14)\n",
        "plt.legend(fontsize=12)\n",
        "plt.grid(True)\n"
      ],
      "metadata": {
        "colab": {
          "base_uri": "https://localhost:8080/",
          "height": 454
        },
        "id": "BgKaWgLHB2-B",
        "outputId": "d5b34ccc-985d-4d64-fc78-dd7f2b03c9d0"
      },
      "execution_count": 12,
      "outputs": [
        {
          "output_type": "display_data",
          "data": {
            "text/plain": [
              "<Figure size 640x480 with 1 Axes>"
            ],
            "image/png": "[encoded data removed]"
          },
          "metadata": {}
        }
      ]
    },
    {
      "cell_type": "code",
      "source": [],
      "metadata": {
        "id": "jHhVgzgXBY8s"
      },
      "execution_count": null,
      "outputs": []
    }
  ]
}